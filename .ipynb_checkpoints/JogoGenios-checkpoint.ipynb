{
 "cells": [
  {
   "cell_type": "code",
   "execution_count": 16,
   "id": "fcd5a3be",
   "metadata": {},
   "outputs": [
    {
     "name": "stdout",
     "output_type": "stream",
     "text": [
      "Agora é a sua vez,digite o numero\n",
      "3\n",
      "3\n",
      "voce perdeu [3, 3] é diferente de [4, 4] voce acertou uma seguencia de 1 numeros. Parabens!\n"
     ]
    }
   ],
   "source": [
    "import random  # necessário para utilizar o módulo random\n",
    "from IPython.display import clear_output # necessário para limpar o display\n",
    "import time # necessário para contar o tempo\n",
    "\n",
    "botao = [] # cria a lista de entrada do usuario\n",
    "fim_jogo =0 # cria variavel que verifica se a pessoa acertou ou errou a seguencia de numeros\n",
    "num_aleatorio =[] # cria lista de numeros randomicos\n",
    "    \n",
    "def def_num_aleatorio(num_aleatorio):\n",
    "    '''Função cria um numero aleatorio de 1 a 4 e adiciona esse numero a uma lista\n",
    "    Argumentos: num_aleatorio- list\n",
    "    Retorno: o argumento de entrada adicionando um elemento\n",
    "    Exemplo: def_num_aleatorio([1,2]) \n",
    "             retorno [1,2,3]'''\n",
    "    num = random.sample(range(1,5), k=1)\n",
    "    num_aleatorio += num\n",
    "    #num_aleatorio.append(num)\n",
    "  \n",
    "    return num_aleatorio\n",
    "\n",
    "def def_entrada_usuario(num_aleatorio,botao):\n",
    "    '''Função limpa a lista botao. Solicita entrada de usuario enquanto não for igual\n",
    "    a quantidade de elemento na lista de numeros randomicos.\n",
    "    Argumentos: num_aleatorio- list\n",
    "                botao - list\n",
    "    Retorno: a lista botao com todos os numeros digitados pelo usuario\n",
    "    Exemplo: def_num_aleatorio([1,2],[1]) \n",
    "             retorno [1,2,1]'''\n",
    "    botao.clear()\n",
    "    for i in range (len(num_aleatorio)) :\n",
    "        test_botao = botao.append(int(input()))\n",
    " \n",
    "    return botao\n",
    "\n",
    "def def_verifica (botao,num_aleatorio):\n",
    "    '''Função verifica se os numeros de entrada do usuario sao igual aos gerados de forma aleatoria.\n",
    "    Argumentos: botao -list\n",
    "                num_aleatorio- list\n",
    "    Retorno: a lista botao com todos os numeros digitados pelo usuario\n",
    "    Exemplo: def_num_aleatorio([1,2],[1]) \n",
    "             retorno [1,2,1]'''\n",
    "    for item in num_aleatorio:\n",
    "        if botao == num_aleatorio:\n",
    "            fim_jogo=0 \n",
    "        else:\n",
    "            print ('voce perdeu', botao,'é diferente de',num_aleatorio, 'voce acertou uma seguencia de', len(num_aleatorio)-1,'números. Parabens!')\n",
    "            fim_jogo=1\n",
    "            return fim_jogo\n",
    "    return fim_jogo\n",
    "            \n",
    "print('''Bem vindo, ao Jogo Genios! \n",
    "\n",
    "     OBJETIVO: Repetir corretamente a sequência de números, cada vez mais longa.\n",
    "     \n",
    "    O jogo começou: digite o numero mostrado na tela, pressionando o numero de 1-4 e prescione enter. \n",
    "    GENIUS repetirá o primeiro número e vai acrescentar mais um. \n",
    "    Repita então esses dois números, pressionando o primeiro numero de 1-4 e prescione enter e depois o segundo numero e enter. \n",
    "    Genius repetirá os dois números e, na mesma sequência, aumentará mais um. \n",
    "    Continue desta forma, enquanto você conseguir repetir cada sequência de números corretamente.''')\n",
    "\n",
    "print('Podemos comecar? S/N')\n",
    "start = input()\n",
    "start=(start.upper())\n",
    "if start == 'S':\n",
    "    print('Ok,vamos começar!')\n",
    "elif start == 'N':\n",
    "    print('Ok, Jogamos depois!')\n",
    "else :\n",
    "    print( 'Favor digitar s para se SIM! Voce deseja comecar a jogar ou N para se não, você não quer jogar agora!')\n",
    "    \n",
    "while fim_jogo == 0 and start == 'S':\n",
    "    clear_output(wait=True)\n",
    "    print('A seguencia de numero é:', def_num_aleatorio(num_aleatorio))\n",
    "    time.sleep(1)\n",
    "    clear_output(wait=False)\n",
    "    time.sleep(0.2)\n",
    "    print('Agora é a sua vez,digite o numero')\n",
    "    botao = def_entrada_usuario(num_aleatorio,botao)\n",
    "    fim_jogo= def_verifica(botao,num_aleatorio)"
   ]
  },
  {
   "cell_type": "markdown",
   "id": "045ff1dc",
   "metadata": {},
   "source": [
    "## "
   ]
  },
  {
   "cell_type": "code",
   "execution_count": null,
   "id": "2c308465",
   "metadata": {},
   "outputs": [],
   "source": []
  }
 ],
 "metadata": {
  "kernelspec": {
   "display_name": "Python 3 (ipykernel)",
   "language": "python",
   "name": "python3"
  },
  "language_info": {
   "codemirror_mode": {
    "name": "ipython",
    "version": 3
   },
   "file_extension": ".py",
   "mimetype": "text/x-python",
   "name": "python",
   "nbconvert_exporter": "python",
   "pygments_lexer": "ipython3",
   "version": "3.9.7"
  },
  "varInspector": {
   "cols": {
    "lenName": 16,
    "lenType": 16,
    "lenVar": 40
   },
   "kernels_config": {
    "python": {
     "delete_cmd_postfix": "",
     "delete_cmd_prefix": "del ",
     "library": "var_list.py",
     "varRefreshCmd": "print(var_dic_list())"
    },
    "r": {
     "delete_cmd_postfix": ") ",
     "delete_cmd_prefix": "rm(",
     "library": "var_list.r",
     "varRefreshCmd": "cat(var_dic_list()) "
    }
   },
   "types_to_exclude": [
    "module",
    "function",
    "builtin_function_or_method",
    "instance",
    "_Feature"
   ],
   "window_display": false
  }
 },
 "nbformat": 4,
 "nbformat_minor": 5
}
