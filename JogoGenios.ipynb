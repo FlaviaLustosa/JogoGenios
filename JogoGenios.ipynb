{
 "cells": [
  {
   "cell_type": "code",
   "execution_count": null,
   "id": "5f2b35dd",
   "metadata": {},
   "outputs": [
    {
     "name": "stdout",
     "output_type": "stream",
     "text": [
      "[3]\n",
      "3\n",
      "[3, 2]\n",
      "3\n",
      "2\n",
      "[3, 2, 1]\n",
      "3\n",
      "2\n",
      "1\n",
      "[3, 2, 1, 4]\n",
      "3\n",
      "2\n",
      "1\n",
      "4\n",
      "[3, 2, 1, 4, 3]\n"
     ]
    }
   ],
   "source": [
    "import random  # necessário para utilizar o módulo random\n",
    "botao = [] # cria a lista de entrada do usuario\n",
    "fim_jogo =0 # cria variavel que verifica se a pessoa acertou ou errou a seguencia de numeros\n",
    "num_aleatorio =[] # cria lista de numeros randomicos\n",
    "\n",
    "def def_num_aleatorio(num_aleatorio):\n",
    "    '''Função cria um numero aleatorio de 1 a 4 e adiciona esse numero a uma lista\n",
    "    Argumentos: num_aleatorio- list\n",
    "    Retorno: o argumento de entrada adicionando um elemento\n",
    "    Exemplo: def_num_aleatorio([1,2]) \n",
    "             retorno [1,2,3]'''\n",
    "    num = random.sample(range(1,5), k=1)\n",
    "    num_aleatorio += num\n",
    "    #num_aleatorio.append(num)\n",
    "  \n",
    "    return num_aleatorio\n",
    "\n",
    "def def_entrada_usuario(num_aleatorio,botao):\n",
    "    '''Função limpa a lista botao. Solicita entrada de usuario enquanto não for igual\n",
    "    a quantidade de elemento na lista de numeros randomicos.\n",
    "    Argumentos: num_aleatorio- list\n",
    "                botao - list\n",
    "    Retorno: a lista botao com todos os numeros digitados pelo usuario\n",
    "    Exemplo: def_num_aleatorio([1,2],[1]) \n",
    "             retorno [1,2,1]'''\n",
    "    botao.clear()\n",
    "    for i in range (len(num_aleatorio)) :\n",
    "        botao.append(int(input()))\n",
    "    return botao\n",
    "\n",
    "def def_verifica (botao,num_aleatorio):\n",
    "    '''Função verifica se os numeros de entrada do usuario sao igual aos gerados de forma aleatoria.\n",
    "    Argumentos: botao -list\n",
    "                num_aleatorio- list\n",
    "    Retorno: a lista botao com todos os numeros digitados pelo usuario\n",
    "    Exemplo: def_num_aleatorio([1,2],[1]) \n",
    "             retorno [1,2,1]'''\n",
    "    for item in num_aleatorio:\n",
    "        if botao == num_aleatorio:\n",
    "            fim_jogo=0 \n",
    "        else:\n",
    "            print ('voce perdeu', botao,num_aleatorio)\n",
    "            fim_jogo=1\n",
    "            return fim_jogo\n",
    "    return fim_jogo\n",
    "            \n",
    "\n",
    "while fim_jogo == 0:\n",
    "    print(def_num_aleatorio(num_aleatorio))\n",
    "    botao = def_entrada_usuario(num_aleatorio,botao)\n",
    "    fim_jogo= def_verifica(botao,num_aleatorio)"
   ]
  },
  {
   "cell_type": "code",
   "execution_count": null,
   "id": "f06f2535",
   "metadata": {},
   "outputs": [],
   "source": []
  }
 ],
 "metadata": {
  "kernelspec": {
   "display_name": "Python 3 (ipykernel)",
   "language": "python",
   "name": "python3"
  }
 },
 "nbformat": 4,
 "nbformat_minor": 5
}
